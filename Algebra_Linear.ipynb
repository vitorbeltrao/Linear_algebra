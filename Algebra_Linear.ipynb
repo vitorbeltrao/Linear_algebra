{
  "nbformat": 4,
  "nbformat_minor": 0,
  "metadata": {
    "colab": {
      "name": "Algebra_Linear.ipynb",
      "provenance": [],
      "collapsed_sections": [],
      "authorship_tag": "ABX9TyNiQUDLN6saKmfesWCiLDew",
      "include_colab_link": true
    },
    "kernelspec": {
      "name": "python3",
      "display_name": "Python 3"
    },
    "language_info": {
      "name": "python"
    }
  },
  "cells": [
    {
      "cell_type": "markdown",
      "metadata": {
        "id": "view-in-github",
        "colab_type": "text"
      },
      "source": [
        "<a href=\"https://colab.research.google.com/github/vitorbeltrao/Linear_algebra/blob/main/Algebra_Linear.ipynb\" target=\"_parent\"><img src=\"https://colab.research.google.com/assets/colab-badge.svg\" alt=\"Open In Colab\"/></a>"
      ]
    },
    {
      "cell_type": "code",
      "metadata": {
        "id": "H9tu8mCIyCiD"
      },
      "source": [
        "# Importar os pacotes necessários\n",
        "import numpy as np\n",
        "import matplotlib.pyplot as plt"
      ],
      "execution_count": 1,
      "outputs": []
    },
    {
      "cell_type": "markdown",
      "metadata": {
        "id": "L9INHWC2xJub"
      },
      "source": [
        "# Escalares\n",
        "A declaração dos escalares no python é de forma direta, conforme exemplos abaixo."
      ]
    },
    {
      "cell_type": "code",
      "metadata": {
        "colab": {
          "base_uri": "https://localhost:8080/"
        },
        "id": "RZ0BFG9NxOEz",
        "outputId": "50d35051-4620-4e7e-d5a9-53afe6bee864"
      },
      "source": [
        "# Representação dos escalares\n",
        "t = 30 # Representação da temperatura\n",
        "print(t)\n",
        "print(type(t))"
      ],
      "execution_count": 2,
      "outputs": [
        {
          "output_type": "stream",
          "name": "stdout",
          "text": [
            "30\n",
            "<class 'int'>\n"
          ]
        }
      ]
    },
    {
      "cell_type": "code",
      "metadata": {
        "colab": {
          "base_uri": "https://localhost:8080/"
        },
        "id": "bPCr0IyTx9Bk",
        "outputId": "ec81d01c-f6c6-49f8-9312-993a18538626"
      },
      "source": [
        "# Representação dos escalares\n",
        "v = 45 # Representação de velocidade\n",
        "print(v)\n",
        "print(type(v))"
      ],
      "execution_count": 3,
      "outputs": [
        {
          "output_type": "stream",
          "name": "stdout",
          "text": [
            "45\n",
            "<class 'int'>\n"
          ]
        }
      ]
    },
    {
      "cell_type": "code",
      "metadata": {
        "colab": {
          "base_uri": "https://localhost:8080/"
        },
        "id": "_B7iXYBSyO2m",
        "outputId": "00c57bda-1923-400d-b2c4-8a2dfaaab5cb"
      },
      "source": [
        "# Representação dos escalares\n",
        "l = 30.0 # Representação de altura\n",
        "print(l)\n",
        "print(type(l))"
      ],
      "execution_count": 4,
      "outputs": [
        {
          "output_type": "stream",
          "name": "stdout",
          "text": [
            "30.0\n",
            "<class 'float'>\n"
          ]
        }
      ]
    },
    {
      "cell_type": "markdown",
      "metadata": {
        "id": "DeNMofmhyetx"
      },
      "source": [
        "# Vetores"
      ]
    },
    {
      "cell_type": "markdown",
      "metadata": {
        "id": "kdIFtvH646Zi"
      },
      "source": [
        "## Soma de vetores\n",
        "É necessário, sempre transformar as listas em array numpy, caso contrário ele não fará a operação corretamente, apenas estará somando ou subtraindo listas."
      ]
    },
    {
      "cell_type": "code",
      "metadata": {
        "colab": {
          "base_uri": "https://localhost:8080/"
        },
        "id": "me7W8mBFydMD",
        "outputId": "62051eff-da5f-4b78-bad8-42f317f77b51"
      },
      "source": [
        "# Declaração dos vetores\n",
        "u = [1,2]\n",
        "v = [2,1]\n",
        "u = np.array(u)\n",
        "v = np.array(v)\n",
        "print(u, v)"
      ],
      "execution_count": 5,
      "outputs": [
        {
          "output_type": "stream",
          "name": "stdout",
          "text": [
            "[1 2] [2 1]\n"
          ]
        }
      ]
    },
    {
      "cell_type": "code",
      "metadata": {
        "colab": {
          "base_uri": "https://localhost:8080/"
        },
        "id": "SchKvBKPyh8x",
        "outputId": "9133e783-c3c9-4cc5-dcc2-9562e790c406"
      },
      "source": [
        "# Soma dos vetores\n",
        "soma = u + v\n",
        "print(soma)"
      ],
      "execution_count": 6,
      "outputs": [
        {
          "output_type": "stream",
          "name": "stdout",
          "text": [
            "[3 3]\n"
          ]
        }
      ]
    },
    {
      "cell_type": "markdown",
      "metadata": {
        "id": "aiY0RzmX9fgx"
      },
      "source": [
        "## Produto escalar de vetores"
      ]
    },
    {
      "cell_type": "code",
      "metadata": {
        "colab": {
          "base_uri": "https://localhost:8080/"
        },
        "id": "WDPkmoYy5jbd",
        "outputId": "0a424c0a-713f-4f21-b57b-b109e8532e77"
      },
      "source": [
        "# Declaração dos vetores\n",
        "u = np.array([2, 3])\n",
        "v = np.array([4, -1])\n",
        "print(u, v)"
      ],
      "execution_count": 7,
      "outputs": [
        {
          "output_type": "stream",
          "name": "stdout",
          "text": [
            "[2 3] [ 4 -1]\n"
          ]
        }
      ]
    },
    {
      "cell_type": "code",
      "metadata": {
        "colab": {
          "base_uri": "https://localhost:8080/"
        },
        "id": "tPw-RKTL9wNc",
        "outputId": "ecf5dce8-8f29-4265-b2e7-26ea430cdd0c"
      },
      "source": [
        "# Produto elemento a elemento dos vetores\n",
        "# NÃO É O PRODUTO ESCALAR\n",
        "prod_elem = u*v\n",
        "print(prod_elem)"
      ],
      "execution_count": 8,
      "outputs": [
        {
          "output_type": "stream",
          "name": "stdout",
          "text": [
            "[ 8 -3]\n"
          ]
        }
      ]
    },
    {
      "cell_type": "code",
      "metadata": {
        "colab": {
          "base_uri": "https://localhost:8080/"
        },
        "id": "-yiC5H1u99_Z",
        "outputId": "df70bb24-6f28-4b92-e613-4fd456a86b02"
      },
      "source": [
        "# Produto escalar dos vetores\n",
        "prod_escalar = u.dot(v)\n",
        "print(prod_escalar)"
      ],
      "execution_count": 9,
      "outputs": [
        {
          "output_type": "stream",
          "name": "stdout",
          "text": [
            "5\n"
          ]
        }
      ]
    },
    {
      "cell_type": "markdown",
      "metadata": {
        "id": "jVGnQlci-Ka5"
      },
      "source": [
        "## Módulo de vetores"
      ]
    },
    {
      "cell_type": "code",
      "metadata": {
        "colab": {
          "base_uri": "https://localhost:8080/"
        },
        "id": "F4Zcag5E-F3G",
        "outputId": "054befa0-2186-421c-cc38-5e5fcb1eedae"
      },
      "source": [
        "# Declaração dos vetores\n",
        "v = np.array([2, 1])\n",
        "mod_v = np.linalg.norm(v)\n",
        "print(mod_v)"
      ],
      "execution_count": 10,
      "outputs": [
        {
          "output_type": "stream",
          "name": "stdout",
          "text": [
            "2.23606797749979\n"
          ]
        }
      ]
    },
    {
      "cell_type": "markdown",
      "metadata": {
        "id": "NosMFVQxCp7Y"
      },
      "source": [
        "## Representação de vetores"
      ]
    },
    {
      "cell_type": "code",
      "metadata": {
        "colab": {
          "base_uri": "https://localhost:8080/"
        },
        "id": "osSxpQDY-lo3",
        "outputId": "e67757e5-1403-4274-c15b-c16ee066434b"
      },
      "source": [
        "# Declaração dos vetores\n",
        "v = np.array([1, 2, 3, 4])\n",
        "print(v)\n",
        "print(type(v))"
      ],
      "execution_count": 11,
      "outputs": [
        {
          "output_type": "stream",
          "name": "stdout",
          "text": [
            "[1 2 3 4]\n",
            "<class 'numpy.ndarray'>\n"
          ]
        }
      ]
    },
    {
      "cell_type": "code",
      "metadata": {
        "id": "iqKBT4RnC7Ai"
      },
      "source": [
        "# Representação gráfica dos vetores\n",
        "def plotVectors(vecs, cols, alpha=1):\n",
        "    \"\"\"\n",
        "    Plot set of vectors.\n",
        "\n",
        "    Parameters\n",
        "    ----------\n",
        "    vecs : array-like\n",
        "        Coordinates of the vectors to plot. Each vectors is in an array. For\n",
        "        instance: [[1, 3], [2, 2]] can be used to plot 2 vectors.\n",
        "    cols : array-like\n",
        "        Colors of the vectors. For instance: ['red', 'blue'] will display the\n",
        "        first vector in red and the second in blue.\n",
        "    alpha : float\n",
        "        Opacity of vectors\n",
        "\n",
        "    Returns:\n",
        "\n",
        "    fig : instance of matplotlib.figure.Figure\n",
        "        The figure of the vectors\n",
        "    \"\"\"\n",
        "    plt.figure()\n",
        "    plt.axvline(x=0, color='#A9A9A9', zorder=0)\n",
        "    plt.axhline(y=0, color='#A9A9A9', zorder=0)\n",
        "\n",
        "    for i in range(len(vecs)):\n",
        "        x = np.concatenate([[0,0],vecs[i]])\n",
        "        plt.quiver([x[0]],\n",
        "                   [x[1]],\n",
        "                   [x[2]],\n",
        "                   [x[3]],\n",
        "                   angles='xy', scale_units='xy', scale=1, color=cols[i],\n",
        "                  alpha=alpha)"
      ],
      "execution_count": 12,
      "outputs": []
    },
    {
      "cell_type": "code",
      "metadata": {
        "colab": {
          "base_uri": "https://localhost:8080/",
          "height": 286
        },
        "id": "j2loHO7tFqxf",
        "outputId": "268fda19-6da8-45e0-95d0-22a444c2726f"
      },
      "source": [
        "# Representação gráfica dos vetores\n",
        "laranja = '#FF9A13'\n",
        "azul = '#1190FF'\n",
        "res = '#11FFFF'\n",
        "\n",
        "plotVectors([[2,3], [4,-1], [6,2]], [laranja, azul, res])\n",
        "\n",
        "plt.xlim(-10, 10)\n",
        "plt.ylim(-10, 10)"
      ],
      "execution_count": 13,
      "outputs": [
        {
          "output_type": "execute_result",
          "data": {
            "text/plain": [
              "(-10.0, 10.0)"
            ]
          },
          "metadata": {},
          "execution_count": 13
        },
        {
          "output_type": "display_data",
          "data": {
            "image/png": "[encoded data removed]",
            "text/plain": [
              "<Figure size 432x288 with 1 Axes>"
            ]
          },
          "metadata": {
            "needs_background": "light"
          }
        }
      ]
    },
    {
      "cell_type": "markdown",
      "metadata": {
        "id": "NcjK9Y-fvtWm"
      },
      "source": [
        "## Ângulo entre vetores"
      ]
    },
    {
      "cell_type": "code",
      "metadata": {
        "id": "qX19fxC6GO2H"
      },
      "source": [
        "# Função que fará os cálculos da fórmula\n",
        "def ang_2vet(v1, v2):\n",
        "  # Produto escalar entre os dois vetores\n",
        "  prod_esc = v1.dot(v2)\n",
        "\n",
        "  # Cálculo da norma desses dois vetores\n",
        "  mod_v1 = np.linalg.norm(v1)\n",
        "  mod_v2 = np.linalg.norm(v2)\n",
        "\n",
        "  # Multiplicação dos módulos dos dois vetores\n",
        "  prod_mod = mod_v1*mod_v2\n",
        "\n",
        "  # Divisão do produto escalar com a multiplicação dos módulos\n",
        "  r = prod_esc/prod_mod\n",
        "\n",
        "  # função que contabiliza o arc cos\n",
        "  theta = np.arccos(r) # Em radianos\n",
        "\n",
        "  return (180/np.pi)*theta # Retorno em graus"
      ],
      "execution_count": 14,
      "outputs": []
    },
    {
      "cell_type": "code",
      "metadata": {
        "colab": {
          "base_uri": "https://localhost:8080/"
        },
        "id": "k_IC1u89yF9v",
        "outputId": "69ca0b23-cb14-467d-f618-5240ca3b421f"
      },
      "source": [
        "# Declaração dos vetores\n",
        "u = np.array([0, 1])\n",
        "v = np.array([1, 0])\n",
        "\n",
        "# Cálculo do ângulo entre dois vetores\n",
        "ang_2vet(u, v)"
      ],
      "execution_count": 15,
      "outputs": [
        {
          "output_type": "execute_result",
          "data": {
            "text/plain": [
              "90.0"
            ]
          },
          "metadata": {},
          "execution_count": 15
        }
      ]
    },
    {
      "cell_type": "markdown",
      "metadata": {
        "id": "pfzFaJsu5Av2"
      },
      "source": [
        "# Matrizes"
      ]
    },
    {
      "cell_type": "code",
      "metadata": {
        "colab": {
          "base_uri": "https://localhost:8080/"
        },
        "id": "s-OqIhNnysBN",
        "outputId": "ac4c24a7-ac88-467d-f103-3164ce30483d"
      },
      "source": [
        "# Declaração da matriz\n",
        "m = np.array([[2, -1], [0, 4]]) # Cada colchete é a representação de uma linha\n",
        "print(m)\n",
        "type(m)"
      ],
      "execution_count": 16,
      "outputs": [
        {
          "output_type": "stream",
          "name": "stdout",
          "text": [
            "[[ 2 -1]\n",
            " [ 0  4]]\n"
          ]
        },
        {
          "output_type": "execute_result",
          "data": {
            "text/plain": [
              "numpy.ndarray"
            ]
          },
          "metadata": {},
          "execution_count": 16
        }
      ]
    },
    {
      "cell_type": "code",
      "metadata": {
        "colab": {
          "base_uri": "https://localhost:8080/"
        },
        "id": "UDDuHPH45a8Z",
        "outputId": "7449db28-fc6b-4fcd-c797-c6e139856358"
      },
      "source": [
        "# Outra forma de representação\n",
        "a = np.matrix('2 -1; 0 4')\n",
        "print(a)\n",
        "type(a)"
      ],
      "execution_count": 17,
      "outputs": [
        {
          "output_type": "stream",
          "name": "stdout",
          "text": [
            "[[ 2 -1]\n",
            " [ 0  4]]\n"
          ]
        },
        {
          "output_type": "execute_result",
          "data": {
            "text/plain": [
              "numpy.matrix"
            ]
          },
          "metadata": {},
          "execution_count": 17
        }
      ]
    },
    {
      "cell_type": "code",
      "metadata": {
        "colab": {
          "base_uri": "https://localhost:8080/"
        },
        "id": "Psd7bgIJ6SQW",
        "outputId": "f1c2d445-ee61-4a9e-e3f2-846eba3b319f"
      },
      "source": [
        "# outra forma de representação\n",
        "b = np.matrix([[2, -1], [0, 4]])\n",
        "print(b)\n",
        "type(b)"
      ],
      "execution_count": 18,
      "outputs": [
        {
          "output_type": "stream",
          "name": "stdout",
          "text": [
            "[[ 2 -1]\n",
            " [ 0  4]]\n"
          ]
        },
        {
          "output_type": "execute_result",
          "data": {
            "text/plain": [
              "numpy.matrix"
            ]
          },
          "metadata": {},
          "execution_count": 18
        }
      ]
    },
    {
      "cell_type": "markdown",
      "metadata": {
        "id": "77wbS1McwTPd"
      },
      "source": [
        "## Tipos de matrizes"
      ]
    },
    {
      "cell_type": "code",
      "metadata": {
        "id": "DokJ36zadfnJ",
        "colab": {
          "base_uri": "https://localhost:8080/"
        },
        "outputId": "910e8a76-7ec4-4ea6-fa66-78a8130d7acb"
      },
      "source": [
        "# Matriz linha\n",
        "l = np.array([[1, 2, 3]])\n",
        "print(l)\n",
        "print(l.shape)\n",
        "\n",
        "################################\n",
        "# Vetor\n",
        "v = np.array([1, 2, 3])\n",
        "print(v)\n",
        "print(v.shape)"
      ],
      "execution_count": 19,
      "outputs": [
        {
          "output_type": "stream",
          "name": "stdout",
          "text": [
            "[[1 2 3]]\n",
            "(1, 3)\n",
            "[1 2 3]\n",
            "(3,)\n"
          ]
        }
      ]
    },
    {
      "cell_type": "markdown",
      "metadata": {
        "id": "HFDKsx3dxRq9"
      },
      "source": [
        "A primeira representação é de uma matriz linha e a segunda de um vetor, cuidado para não confundir."
      ]
    },
    {
      "cell_type": "code",
      "metadata": {
        "colab": {
          "base_uri": "https://localhost:8080/"
        },
        "id": "8ftt8vFZwgmF",
        "outputId": "616aca43-6fbc-413b-88d4-77be11eb0ffb"
      },
      "source": [
        "# Matriz coluna\n",
        "c = np.array([[1], [2], [3]])\n",
        "print(c)\n",
        "print(c.shape)"
      ],
      "execution_count": 20,
      "outputs": [
        {
          "output_type": "stream",
          "name": "stdout",
          "text": [
            "[[1]\n",
            " [2]\n",
            " [3]]\n",
            "(3, 1)\n"
          ]
        }
      ]
    },
    {
      "cell_type": "code",
      "metadata": {
        "colab": {
          "base_uri": "https://localhost:8080/"
        },
        "id": "lhphVIvdwgdt",
        "outputId": "24f14b62-75b7-4212-d7ec-ba8e43ee4410"
      },
      "source": [
        "# Matriz nula\n",
        "n = np.zeros((5,5)) # Pode ser feito com parênteses ou colchetes\n",
        "print(n)"
      ],
      "execution_count": 21,
      "outputs": [
        {
          "output_type": "stream",
          "name": "stdout",
          "text": [
            "[[0. 0. 0. 0. 0.]\n",
            " [0. 0. 0. 0. 0.]\n",
            " [0. 0. 0. 0. 0.]\n",
            " [0. 0. 0. 0. 0.]\n",
            " [0. 0. 0. 0. 0.]]\n"
          ]
        }
      ]
    },
    {
      "cell_type": "code",
      "metadata": {
        "colab": {
          "base_uri": "https://localhost:8080/"
        },
        "id": "q0jOOKBTwgVt",
        "outputId": "6627fcd9-0c8f-403d-a2e6-9879f0714a8c"
      },
      "source": [
        "# Matriz diagonal\n",
        "d = np.diag([1, 2, 3, 4, 5, 6])\n",
        "print(d)\n",
        "# Podemos usar essa função para extrair uma diagonal de uma matriz pré-existente também"
      ],
      "execution_count": 22,
      "outputs": [
        {
          "output_type": "stream",
          "name": "stdout",
          "text": [
            "[[1 0 0 0 0 0]\n",
            " [0 2 0 0 0 0]\n",
            " [0 0 3 0 0 0]\n",
            " [0 0 0 4 0 0]\n",
            " [0 0 0 0 5 0]\n",
            " [0 0 0 0 0 6]]\n"
          ]
        }
      ]
    },
    {
      "cell_type": "code",
      "metadata": {
        "colab": {
          "base_uri": "https://localhost:8080/"
        },
        "id": "QADuLMFVwgMe",
        "outputId": "655c74f0-83cd-4d1d-ae17-51a75610ee0b"
      },
      "source": [
        "# Matriz identidade\n",
        "i = np.eye(5)\n",
        "print(i)"
      ],
      "execution_count": 23,
      "outputs": [
        {
          "output_type": "stream",
          "name": "stdout",
          "text": [
            "[[1. 0. 0. 0. 0.]\n",
            " [0. 1. 0. 0. 0.]\n",
            " [0. 0. 1. 0. 0.]\n",
            " [0. 0. 0. 1. 0.]\n",
            " [0. 0. 0. 0. 1.]]\n"
          ]
        }
      ]
    },
    {
      "cell_type": "markdown",
      "metadata": {
        "id": "QxgLnTig2j2P"
      },
      "source": [
        "## Matriz transposta"
      ]
    },
    {
      "cell_type": "code",
      "metadata": {
        "colab": {
          "base_uri": "https://localhost:8080/"
        },
        "id": "1CI8YbSz1izg",
        "outputId": "5c0e4072-9b7a-4825-b510-8c92feacb6aa"
      },
      "source": [
        "# Declaração das matrizes\n",
        "s = np.array([[1, 2, 3], [4, 5, 6], [7, 8, 9]])\n",
        "a = np.array([[1, 2, 3, 4], [5, 6, 7, 8]])\n",
        "b = np.array([[10, 9, 8, 7], [6, 5, 4, 3]])\n",
        "print(s, '\\n')\n",
        "print(a, '\\n')\n",
        "print(b)"
      ],
      "execution_count": 24,
      "outputs": [
        {
          "output_type": "stream",
          "name": "stdout",
          "text": [
            "[[1 2 3]\n",
            " [4 5 6]\n",
            " [7 8 9]] \n",
            "\n",
            "[[1 2 3 4]\n",
            " [5 6 7 8]] \n",
            "\n",
            "[[10  9  8  7]\n",
            " [ 6  5  4  3]]\n"
          ]
        }
      ]
    },
    {
      "cell_type": "code",
      "metadata": {
        "colab": {
          "base_uri": "https://localhost:8080/"
        },
        "id": "QGdHPqUy3AkP",
        "outputId": "a8bd0e27-aa91-4006-8316-17df570d1b0a"
      },
      "source": [
        "# Transposta da matriz s\n",
        "transposta_s = np.transpose(s)\n",
        "print(transposta_s)"
      ],
      "execution_count": 25,
      "outputs": [
        {
          "output_type": "stream",
          "name": "stdout",
          "text": [
            "[[1 4 7]\n",
            " [2 5 8]\n",
            " [3 6 9]]\n"
          ]
        }
      ]
    },
    {
      "cell_type": "code",
      "metadata": {
        "colab": {
          "base_uri": "https://localhost:8080/"
        },
        "id": "Aw1T9rd_3inD",
        "outputId": "e236a713-0cf9-43ed-d402-6ab791c83ad4"
      },
      "source": [
        "# Transposta da matriz a\n",
        "transposta_a = np.transpose(a)\n",
        "print(transposta_a)"
      ],
      "execution_count": 26,
      "outputs": [
        {
          "output_type": "stream",
          "name": "stdout",
          "text": [
            "[[1 5]\n",
            " [2 6]\n",
            " [3 7]\n",
            " [4 8]]\n"
          ]
        }
      ]
    },
    {
      "cell_type": "code",
      "metadata": {
        "colab": {
          "base_uri": "https://localhost:8080/"
        },
        "id": "a6SXv5qf3oV3",
        "outputId": "7c8b6570-be9f-43a3-fb81-2fedd962f0a6"
      },
      "source": [
        "# Transposta da matriz b\n",
        "transposta_b = b.T\n",
        "print(transposta_b)"
      ],
      "execution_count": 27,
      "outputs": [
        {
          "output_type": "stream",
          "name": "stdout",
          "text": [
            "[[10  6]\n",
            " [ 9  5]\n",
            " [ 8  4]\n",
            " [ 7  3]]\n"
          ]
        }
      ]
    },
    {
      "cell_type": "markdown",
      "metadata": {
        "id": "EvXTkIsQ7-Vg"
      },
      "source": [
        "## Propriedades entre matrizes"
      ]
    },
    {
      "cell_type": "code",
      "metadata": {
        "colab": {
          "base_uri": "https://localhost:8080/"
        },
        "id": "ied9BMFQ3wC7",
        "outputId": "af1b161e-976b-486f-d38a-32efd2fd5575"
      },
      "source": [
        "# propriedade 1\n",
        "# Função que compara a igualdade entre duas matrizes\n",
        "# Verdadeiro se duas matrizes têm a mesma forma e elementos; caso contrário, Falso.\n",
        "np.array_equal(s, s.T)"
      ],
      "execution_count": 28,
      "outputs": [
        {
          "output_type": "execute_result",
          "data": {
            "text/plain": [
              "False"
            ]
          },
          "metadata": {},
          "execution_count": 28
        }
      ]
    },
    {
      "cell_type": "markdown",
      "metadata": {
        "id": "x29HKZtI6TtW"
      },
      "source": [
        "Uma matriz só é simétrica, se e somente se, sua transposta for igual a ela mesma."
      ]
    },
    {
      "cell_type": "code",
      "metadata": {
        "colab": {
          "base_uri": "https://localhost:8080/"
        },
        "id": "1GTxXh_94XCJ",
        "outputId": "cae2d57a-4e68-424d-e5f9-28be1b23a88c"
      },
      "source": [
        "# propriedade 2\n",
        "# A matriz transposta da transposta é igual a ela mesma\n",
        "np.array_equal(a.T.T, a)"
      ],
      "execution_count": 29,
      "outputs": [
        {
          "output_type": "execute_result",
          "data": {
            "text/plain": [
              "True"
            ]
          },
          "metadata": {},
          "execution_count": 29
        }
      ]
    },
    {
      "cell_type": "code",
      "metadata": {
        "colab": {
          "base_uri": "https://localhost:8080/"
        },
        "id": "_9JMvmn760Px",
        "outputId": "8b9fa45c-34c0-4770-ff1a-6bfc7dde333a"
      },
      "source": [
        "# propriedade 3\n",
        "# A transposta de uma soma é igual a soma das transpostas\n",
        "np.array_equal((a + b).T, a.T + b.T)"
      ],
      "execution_count": 30,
      "outputs": [
        {
          "output_type": "execute_result",
          "data": {
            "text/plain": [
              "True"
            ]
          },
          "metadata": {},
          "execution_count": 30
        }
      ]
    },
    {
      "cell_type": "code",
      "metadata": {
        "colab": {
          "base_uri": "https://localhost:8080/"
        },
        "id": "1QxM4J1i7JDO",
        "outputId": "26699440-a430-47f8-e166-90df463909b1"
      },
      "source": [
        "# propriedade 4\n",
        "# propriedade multiplicação\n",
        "k = 7\n",
        "np.array_equal((k * a).T, k * a.T)"
      ],
      "execution_count": 31,
      "outputs": [
        {
          "output_type": "execute_result",
          "data": {
            "text/plain": [
              "True"
            ]
          },
          "metadata": {},
          "execution_count": 31
        }
      ]
    },
    {
      "cell_type": "markdown",
      "metadata": {
        "id": "vCvYizVm8ie-"
      },
      "source": [
        "## Slicing de matrizes "
      ]
    },
    {
      "cell_type": "code",
      "metadata": {
        "colab": {
          "base_uri": "https://localhost:8080/"
        },
        "id": "iDJRE-0C7wRC",
        "outputId": "ae060ebd-e244-491a-8ea0-27a2142d85df"
      },
      "source": [
        "# Declaração da matriz\n",
        "A = np.array([[2, 4, 6], [4, 7, 1], [9, 3, 8]])\n",
        "print(A, '\\n')\n",
        "print(A.shape)"
      ],
      "execution_count": 32,
      "outputs": [
        {
          "output_type": "stream",
          "name": "stdout",
          "text": [
            "[[2 4 6]\n",
            " [4 7 1]\n",
            " [9 3 8]] \n",
            "\n",
            "(3, 3)\n"
          ]
        }
      ]
    },
    {
      "cell_type": "code",
      "metadata": {
        "colab": {
          "base_uri": "https://localhost:8080/"
        },
        "id": "2GwXbcvd_hkB",
        "outputId": "e96e6293-8e5f-49f9-f19b-886ddd8dac34"
      },
      "source": [
        "# Slicing\n",
        "# Fazendo a aquisição de todos os elementos das matrizes\n",
        "print(A[:], '\\n') # 1a forma\n",
        "print(A[:, :]) # 2a forma"
      ],
      "execution_count": 33,
      "outputs": [
        {
          "output_type": "stream",
          "name": "stdout",
          "text": [
            "[[2 4 6]\n",
            " [4 7 1]\n",
            " [9 3 8]] \n",
            "\n",
            "[[2 4 6]\n",
            " [4 7 1]\n",
            " [9 3 8]]\n"
          ]
        }
      ]
    },
    {
      "cell_type": "code",
      "metadata": {
        "colab": {
          "base_uri": "https://localhost:8080/"
        },
        "id": "jtA4kMzY_0v9",
        "outputId": "82ed32ee-2114-4f76-ee7c-7e7fa9b3a0fd"
      },
      "source": [
        "# Fazendo a aquisição de uma linha\n",
        "# Lembrando que a indexação do python começa com 0\n",
        "A[1, :] # Pegar a segunda linha e todas as colunas"
      ],
      "execution_count": 34,
      "outputs": [
        {
          "output_type": "execute_result",
          "data": {
            "text/plain": [
              "array([4, 7, 1])"
            ]
          },
          "metadata": {},
          "execution_count": 34
        }
      ]
    },
    {
      "cell_type": "code",
      "metadata": {
        "colab": {
          "base_uri": "https://localhost:8080/"
        },
        "id": "fvSbAhhkAfGt",
        "outputId": "01923705-c8c4-41c6-b93a-c107dd04b6c5"
      },
      "source": [
        "# Fazendo a aquisição de um elemento específico (por exemplo o elemento 7)\n",
        "A[1, 1]"
      ],
      "execution_count": 35,
      "outputs": [
        {
          "output_type": "execute_result",
          "data": {
            "text/plain": [
              "7"
            ]
          },
          "metadata": {},
          "execution_count": 35
        }
      ]
    },
    {
      "cell_type": "code",
      "metadata": {
        "colab": {
          "base_uri": "https://localhost:8080/"
        },
        "id": "Yw2DN8XVAvx9",
        "outputId": "1ebb0027-1eab-4509-a8a7-39feb5eaae80"
      },
      "source": [
        "# Mudar um valor específico na matriz (por exemplo no lugar do elemento 1 colocar o elemento 77)\n",
        "A[1, 2] = 77\n",
        "print(A)"
      ],
      "execution_count": 36,
      "outputs": [
        {
          "output_type": "stream",
          "name": "stdout",
          "text": [
            "[[ 2  4  6]\n",
            " [ 4  7 77]\n",
            " [ 9  3  8]]\n"
          ]
        }
      ]
    },
    {
      "cell_type": "code",
      "metadata": {
        "colab": {
          "base_uri": "https://localhost:8080/"
        },
        "id": "jGMVhUCtBICZ",
        "outputId": "931b103a-84c5-4fad-cf33-27c1d77d55da"
      },
      "source": [
        "# Fazer a aquisição de toda uma coluna\n",
        "col_1 = A[:, 1]\n",
        "print(col_1)"
      ],
      "execution_count": 37,
      "outputs": [
        {
          "output_type": "stream",
          "name": "stdout",
          "text": [
            "[4 7 3]\n"
          ]
        }
      ]
    },
    {
      "cell_type": "code",
      "metadata": {
        "colab": {
          "base_uri": "https://localhost:8080/"
        },
        "id": "iLwBo-aaBsKt",
        "outputId": "3c290583-5384-414f-eb0b-72a42cd7a360"
      },
      "source": [
        "# Fazer a aquisição dos itens 3 e 8\n",
        "A[2, 1:3] # Veja que o último valor não é inclusivo portanto tenho que ir de 1 a 3 (apesar de serem os itens 1 e 2)"
      ],
      "execution_count": 38,
      "outputs": [
        {
          "output_type": "execute_result",
          "data": {
            "text/plain": [
              "array([3, 8])"
            ]
          },
          "metadata": {},
          "execution_count": 38
        }
      ]
    },
    {
      "cell_type": "markdown",
      "metadata": {
        "id": "mBeGxWTW4TI0"
      },
      "source": [
        "## Operações com matrizes"
      ]
    },
    {
      "cell_type": "code",
      "metadata": {
        "id": "EYXzAdgsCX-F",
        "colab": {
          "base_uri": "https://localhost:8080/"
        },
        "outputId": "cab44108-bc8a-4656-f4e9-72d13fd73420"
      },
      "source": [
        "# Declaração das matrizes\n",
        "A = np.array([[2, 4, 6], [1, 2, 7], [3, 2, 9]])\n",
        "B = np.array([[-1, 4, 5], [6, 3, 1]])\n",
        "C = np.array([[0, 4, 3], [1, -3, -1], [3, 1, 2]])\n",
        "\n",
        "print(A, '\\n')\n",
        "print(B, '\\n')\n",
        "print(C)"
      ],
      "execution_count": 39,
      "outputs": [
        {
          "output_type": "stream",
          "name": "stdout",
          "text": [
            "[[2 4 6]\n",
            " [1 2 7]\n",
            " [3 2 9]] \n",
            "\n",
            "[[-1  4  5]\n",
            " [ 6  3  1]] \n",
            "\n",
            "[[ 0  4  3]\n",
            " [ 1 -3 -1]\n",
            " [ 3  1  2]]\n"
          ]
        }
      ]
    },
    {
      "cell_type": "code",
      "metadata": {
        "colab": {
          "base_uri": "https://localhost:8080/"
        },
        "id": "HxwbSzeo4vRG",
        "outputId": "3871447f-3ab9-424d-b696-a8ebc221bcdc"
      },
      "source": [
        "# Tamanho das matrizes\n",
        "print(A.shape, '\\n')\n",
        "print(B.shape, '\\n')\n",
        "print(C.shape)"
      ],
      "execution_count": 40,
      "outputs": [
        {
          "output_type": "stream",
          "name": "stdout",
          "text": [
            "(3, 3) \n",
            "\n",
            "(2, 3) \n",
            "\n",
            "(3, 3)\n"
          ]
        }
      ]
    },
    {
      "cell_type": "code",
      "metadata": {
        "id": "wwBhamzj4vUr"
      },
      "source": [
        "# Soma - Atenção ao erro: as matrizes tem que ter o mesmo tamanho para serem somadas\n",
        "# S = A + B # Operação impossível\n",
        "# print(S)"
      ],
      "execution_count": 41,
      "outputs": []
    },
    {
      "cell_type": "code",
      "metadata": {
        "colab": {
          "base_uri": "https://localhost:8080/"
        },
        "id": "TAyYMLEQ5tAX",
        "outputId": "efe9eba6-e3e3-4315-81f1-25ee4f939640"
      },
      "source": [
        "# Soma de linha\n",
        "SL = A[0, :] + B[0, :]\n",
        "print(SL)\n",
        "# Essa operação funciona, pois, temos uma correspondência de colunas"
      ],
      "execution_count": 42,
      "outputs": [
        {
          "output_type": "stream",
          "name": "stdout",
          "text": [
            "[ 1  8 11]\n"
          ]
        }
      ]
    },
    {
      "cell_type": "code",
      "metadata": {
        "id": "Bf42rPoR6FYs"
      },
      "source": [
        "# Soma de coluna\n",
        "# SC = A[:, 0] + B[:, 0]\n",
        "# print(SC)\n",
        "# Essa operação não funciona, pois, não temos uma correspondência de linhas"
      ],
      "execution_count": 43,
      "outputs": []
    },
    {
      "cell_type": "code",
      "metadata": {
        "id": "PCGJZI7_7CeR"
      },
      "source": [
        "# Multiplicação da matriz A com a matriz B\n",
        "# M = A * B\n",
        "# print(M)\n",
        "# Essa operação não funciona, pois, não temos a correspondência necessária entre linhas e colunas\n",
        "# A mesma coisa equivale para a divisão"
      ],
      "execution_count": 44,
      "outputs": []
    },
    {
      "cell_type": "code",
      "metadata": {
        "colab": {
          "base_uri": "https://localhost:8080/"
        },
        "id": "bdPHD86V6SJj",
        "outputId": "278ce1bb-95b9-4006-c414-ce4dc3631981"
      },
      "source": [
        "# Soma da matriz A com a matriz C\n",
        "SAC = A + C\n",
        "print(SAC)"
      ],
      "execution_count": 45,
      "outputs": [
        {
          "output_type": "stream",
          "name": "stdout",
          "text": [
            "[[ 2  8  9]\n",
            " [ 2 -1  6]\n",
            " [ 6  3 11]]\n"
          ]
        }
      ]
    },
    {
      "cell_type": "code",
      "metadata": {
        "colab": {
          "base_uri": "https://localhost:8080/"
        },
        "id": "O-6S4ri06xG8",
        "outputId": "8ae40500-14cf-4a2b-c0be-0bf73dbe756b"
      },
      "source": [
        "# Subtração da matriz A com a matriz C\n",
        "SubAC = A - C\n",
        "print(SubAC)"
      ],
      "execution_count": 46,
      "outputs": [
        {
          "output_type": "stream",
          "name": "stdout",
          "text": [
            "[[2 0 3]\n",
            " [0 5 8]\n",
            " [0 1 7]]\n"
          ]
        }
      ]
    },
    {
      "cell_type": "code",
      "metadata": {
        "colab": {
          "base_uri": "https://localhost:8080/"
        },
        "id": "6tOILTWm64P3",
        "outputId": "b1b86b49-6f48-487f-e2ff-eb9327296490"
      },
      "source": [
        "# Multiplicação da matriz A com a matriz C\n",
        "MAC = A * C\n",
        "print(MAC)\n",
        "# Esse método simplesmente multiplica elemento a elemento, o jeito usual de fazer uma multiplicação matricial é utilizar o método .dot"
      ],
      "execution_count": 47,
      "outputs": [
        {
          "output_type": "stream",
          "name": "stdout",
          "text": [
            "[[ 0 16 18]\n",
            " [ 1 -6 -7]\n",
            " [ 9  2 18]]\n"
          ]
        }
      ]
    },
    {
      "cell_type": "code",
      "metadata": {
        "colab": {
          "base_uri": "https://localhost:8080/"
        },
        "id": "-krwcBSq7Wf2",
        "outputId": "ad447069-ce44-42f6-add4-09e6949b8587"
      },
      "source": [
        "# Divisão da matriz A com a matriz C\n",
        "DAC = A / C\n",
        "print(DAC)\n",
        "# Esse método simplesmente divide elemento a elemento"
      ],
      "execution_count": 48,
      "outputs": [
        {
          "output_type": "stream",
          "name": "stdout",
          "text": [
            "[[        inf  1.          2.        ]\n",
            " [ 1.         -0.66666667 -7.        ]\n",
            " [ 1.          2.          4.5       ]]\n"
          ]
        },
        {
          "output_type": "stream",
          "name": "stderr",
          "text": [
            "/usr/local/lib/python3.7/dist-packages/ipykernel_launcher.py:2: RuntimeWarning: divide by zero encountered in true_divide\n",
            "  \n"
          ]
        }
      ]
    },
    {
      "cell_type": "code",
      "metadata": {
        "colab": {
          "base_uri": "https://localhost:8080/"
        },
        "id": "lYtE6wPV7i9Y",
        "outputId": "20fcd09d-96f8-417f-9420-b9c1c2c3ce1f"
      },
      "source": [
        "# Multiplicação matricial\n",
        "MM = A.dot(C)\n",
        "print(MM)"
      ],
      "execution_count": 49,
      "outputs": [
        {
          "output_type": "stream",
          "name": "stdout",
          "text": [
            "[[22  2 14]\n",
            " [23  5 15]\n",
            " [29 15 25]]\n"
          ]
        }
      ]
    },
    {
      "cell_type": "code",
      "metadata": {
        "id": "1ap472n68-bn"
      },
      "source": [
        ""
      ],
      "execution_count": 49,
      "outputs": []
    },
    {
      "cell_type": "markdown",
      "metadata": {
        "id": "-1yhWvkhdOYE"
      },
      "source": [
        "# Determinantes"
      ]
    },
    {
      "cell_type": "code",
      "metadata": {
        "colab": {
          "base_uri": "https://localhost:8080/"
        },
        "id": "zClchcD8dScc",
        "outputId": "82298f2d-794e-4845-b17c-7c146dbc5c80"
      },
      "source": [
        "# Declaração da matriz\n",
        "a = np.array([[1, 2, 4], [5, 3, -1], [7, 2, 0]])\n",
        "print(a)"
      ],
      "execution_count": 50,
      "outputs": [
        {
          "output_type": "stream",
          "name": "stdout",
          "text": [
            "[[ 1  2  4]\n",
            " [ 5  3 -1]\n",
            " [ 7  2  0]]\n"
          ]
        }
      ]
    },
    {
      "cell_type": "code",
      "metadata": {
        "colab": {
          "base_uri": "https://localhost:8080/"
        },
        "id": "-OlDgugrdSZg",
        "outputId": "ece46e60-c652-4b6a-f98f-4cf817af832a"
      },
      "source": [
        "# Cálculo do determinante\n",
        "det_a = np.linalg.det(a)\n",
        "print(det_a)"
      ],
      "execution_count": 51,
      "outputs": [
        {
          "output_type": "stream",
          "name": "stdout",
          "text": [
            "-56.00000000000002\n"
          ]
        }
      ]
    },
    {
      "cell_type": "markdown",
      "metadata": {
        "id": "zGhLvvpvgOtL"
      },
      "source": [
        "## Propriedades dos determinantes"
      ]
    },
    {
      "cell_type": "code",
      "metadata": {
        "colab": {
          "base_uri": "https://localhost:8080/"
        },
        "id": "87kCyumceJuH",
        "outputId": "42d96dd1-6209-4b18-f1a0-88b8869a62c0"
      },
      "source": [
        "# Declaração da matriz\n",
        "az = np.zeros([3,3])\n",
        "print(a, '\\n')\n",
        "print(az)"
      ],
      "execution_count": 52,
      "outputs": [
        {
          "output_type": "stream",
          "name": "stdout",
          "text": [
            "[[ 1  2  4]\n",
            " [ 5  3 -1]\n",
            " [ 7  2  0]] \n",
            "\n",
            "[[0. 0. 0.]\n",
            " [0. 0. 0.]\n",
            " [0. 0. 0.]]\n"
          ]
        }
      ]
    },
    {
      "cell_type": "code",
      "metadata": {
        "colab": {
          "base_uri": "https://localhost:8080/"
        },
        "id": "c3pDhaeBgeWO",
        "outputId": "fd1e6761-35bc-4905-a4a8-375a9fd4c687"
      },
      "source": [
        "# 1) Se pegarmos o determinante de uma matriz nula, teremos 0 de retorno\n",
        "det_az = np.linalg.det(az)\n",
        "print(det_az)"
      ],
      "execution_count": 53,
      "outputs": [
        {
          "output_type": "stream",
          "name": "stdout",
          "text": [
            "0.0\n"
          ]
        }
      ]
    },
    {
      "cell_type": "code",
      "metadata": {
        "colab": {
          "base_uri": "https://localhost:8080/"
        },
        "id": "3clu6BiJgsh8",
        "outputId": "ec71b6af-d3a7-499f-8ac1-b67805860dbd"
      },
      "source": [
        "# 2) Det(a) = Det(a.T)\n",
        "print(det_a, '\\n')\n",
        "det_at = np.linalg.det(a.T)\n",
        "print(det_at)"
      ],
      "execution_count": 54,
      "outputs": [
        {
          "output_type": "stream",
          "name": "stdout",
          "text": [
            "-56.00000000000002 \n",
            "\n",
            "-55.99999999999997\n"
          ]
        }
      ]
    },
    {
      "cell_type": "code",
      "metadata": {
        "colab": {
          "base_uri": "https://localhost:8080/"
        },
        "id": "EGTcHQoEhFvc",
        "outputId": "caca7c83-fc57-4ed9-a24c-e7e230d12093"
      },
      "source": [
        "# 3) Matriz com duas linhas iguais o det = 0\n",
        "b = np.array([[1, 2, 4], [1, 2, 4], [5, 3, -1]])\n",
        "det_b = np.linalg.det(b)\n",
        "print(det_b)"
      ],
      "execution_count": 55,
      "outputs": [
        {
          "output_type": "stream",
          "name": "stdout",
          "text": [
            "0.0\n"
          ]
        }
      ]
    },
    {
      "cell_type": "code",
      "metadata": {
        "colab": {
          "base_uri": "https://localhost:8080/"
        },
        "id": "BPLEoqyuiHuF",
        "outputId": "29dadb35-470c-4842-af2c-ab680bf5457f"
      },
      "source": [
        "# 4) det(a + b) != det(a) + det(b)\n",
        "b = np.array([[0, 5, 4], [8, 2, 1], [9, -2, 3]])\n",
        "print(a, '\\n')\n",
        "print(b, '\\n')\n",
        "\n",
        "np.array_equal(np.linalg.det(a+b), np.linalg.det(a)+np.linalg.det(b))"
      ],
      "execution_count": 56,
      "outputs": [
        {
          "output_type": "stream",
          "name": "stdout",
          "text": [
            "[[ 1  2  4]\n",
            " [ 5  3 -1]\n",
            " [ 7  2  0]] \n",
            "\n",
            "[[ 0  5  4]\n",
            " [ 8  2  1]\n",
            " [ 9 -2  3]] \n",
            "\n"
          ]
        },
        {
          "output_type": "execute_result",
          "data": {
            "text/plain": [
              "False"
            ]
          },
          "metadata": {},
          "execution_count": 56
        }
      ]
    },
    {
      "cell_type": "code",
      "metadata": {
        "colab": {
          "base_uri": "https://localhost:8080/"
        },
        "id": "kK9EgOeYjIBH",
        "outputId": "5883028f-1068-44c7-cc28-8d2153120a4b"
      },
      "source": [
        "# 5) det(a.dot(b)) = det(a)*det(b)\n",
        "print(np.linalg.det(a.dot(b)), '\\n')\n",
        "print(np.linalg.det(a) * np.linalg.det(b))"
      ],
      "execution_count": 57,
      "outputs": [
        {
          "output_type": "stream",
          "name": "stdout",
          "text": [
            "11815.999999999996 \n",
            "\n",
            "11815.999999999996\n"
          ]
        }
      ]
    },
    {
      "cell_type": "code",
      "metadata": {
        "id": "HONwt2SbjviD"
      },
      "source": [
        ""
      ],
      "execution_count": 57,
      "outputs": []
    },
    {
      "cell_type": "markdown",
      "metadata": {
        "id": "AiNTUEr_fKBD"
      },
      "source": [
        "# Matriz Inversa"
      ]
    },
    {
      "cell_type": "code",
      "metadata": {
        "colab": {
          "base_uri": "https://localhost:8080/"
        },
        "id": "ZcRq6vQxfMK1",
        "outputId": "8be0da74-10d7-4972-fd76-61e0ba0acdcd"
      },
      "source": [
        "# Importanto bibliotecas\n",
        "from numpy.linalg import det, inv\n",
        "\n",
        "# Declaração das matrizes\n",
        "a = np.array([[1, -7, 2], [4, 2, 7], [1, 4, -1]])\n",
        "b = np.array([[1, 1, 2], [1, 1, 2], [3, -1, -1]])\n",
        "\n",
        "print(a, '\\n')\n",
        "print(b)"
      ],
      "execution_count": 58,
      "outputs": [
        {
          "output_type": "stream",
          "name": "stdout",
          "text": [
            "[[ 1 -7  2]\n",
            " [ 4  2  7]\n",
            " [ 1  4 -1]] \n",
            "\n",
            "[[ 1  1  2]\n",
            " [ 1  1  2]\n",
            " [ 3 -1 -1]]\n"
          ]
        }
      ]
    },
    {
      "cell_type": "code",
      "metadata": {
        "colab": {
          "base_uri": "https://localhost:8080/"
        },
        "id": "rc_ZH_OYfMIS",
        "outputId": "e7cd5d7a-8144-4af3-f3de-787464476a39"
      },
      "source": [
        "# Vamos primeiro tirar o determinante para descobrir se as matrizes possuem inversa\n",
        "det_a = det(a)\n",
        "det_b = det(b)\n",
        "\n",
        "print(det_a)\n",
        "print(det_b)"
      ],
      "execution_count": 59,
      "outputs": [
        {
          "output_type": "stream",
          "name": "stdout",
          "text": [
            "-79.0\n",
            "0.0\n"
          ]
        }
      ]
    },
    {
      "cell_type": "markdown",
      "metadata": {
        "id": "ye7vMxA6gKek"
      },
      "source": [
        "A primeira matriz possui inversa, já que seu determinante é diferente de 0. A segunda é uma matriz singular (não possui inversa), já que seu determinante deu igual a 0."
      ]
    },
    {
      "cell_type": "code",
      "metadata": {
        "colab": {
          "base_uri": "https://localhost:8080/"
        },
        "id": "0GOGOwh8fMF6",
        "outputId": "00482f63-bbe9-4090-e07c-727d4185099d"
      },
      "source": [
        "# Vamos descrobrir a matriz inversa de a\n",
        "inv_a = inv(a)\n",
        "print(inv_a)"
      ],
      "execution_count": 60,
      "outputs": [
        {
          "output_type": "stream",
          "name": "stdout",
          "text": [
            "[[ 0.37974684 -0.01265823  0.67088608]\n",
            " [-0.13924051  0.03797468 -0.01265823]\n",
            " [-0.17721519  0.13924051 -0.37974684]]\n"
          ]
        }
      ]
    },
    {
      "cell_type": "code",
      "metadata": {
        "colab": {
          "base_uri": "https://localhost:8080/"
        },
        "id": "ZVQvuFVJgerV",
        "outputId": "ffd6775d-0277-4f9a-bb3a-6a6989d51636"
      },
      "source": [
        "# Vamos multiplicar a matriz 'a' pela sua inversa para ver se resulta na sua identidade\n",
        "I = a.dot(inv_a)\n",
        "print(I)"
      ],
      "execution_count": 61,
      "outputs": [
        {
          "output_type": "stream",
          "name": "stdout",
          "text": [
            "[[ 1.00000000e+00  0.00000000e+00  0.00000000e+00]\n",
            " [-2.77555756e-17  1.00000000e+00 -2.22044605e-16]\n",
            " [ 8.32667268e-17 -2.77555756e-17  1.00000000e+00]]\n"
          ]
        }
      ]
    },
    {
      "cell_type": "code",
      "metadata": {
        "id": "ORlD7Dxihj-5"
      },
      "source": [
        ""
      ],
      "execution_count": 61,
      "outputs": []
    },
    {
      "cell_type": "markdown",
      "metadata": {
        "id": "-_8DNy5wowAM"
      },
      "source": [
        "# Solução de Sistemas Lineares\n",
        "\n",
        "Temos o seguinte sistema:\n",
        "\n",
        "-x1 + 2x2 = -1 \n",
        "\n",
        "2x1 + x2 = 5 \n",
        "\n",
        "Solução: X = (A)^-1 . B"
      ]
    },
    {
      "cell_type": "code",
      "metadata": {
        "colab": {
          "base_uri": "https://localhost:8080/"
        },
        "id": "jSixR0sTo-77",
        "outputId": "f18ddf33-c7fc-45d3-84ea-6ff925a9fd4c"
      },
      "source": [
        "# Declaração das matrizes\n",
        "A = np.array([[-1, 2], [2, 1]])\n",
        "B = np.array([[-1], [5]])\n",
        "\n",
        "print(A, '\\n')\n",
        "print(B)"
      ],
      "execution_count": 62,
      "outputs": [
        {
          "output_type": "stream",
          "name": "stdout",
          "text": [
            "[[-1  2]\n",
            " [ 2  1]] \n",
            "\n",
            "[[-1]\n",
            " [ 5]]\n"
          ]
        }
      ]
    },
    {
      "cell_type": "code",
      "metadata": {
        "colab": {
          "base_uri": "https://localhost:8080/"
        },
        "id": "ZKL4aAERpwUK",
        "outputId": "18dbbdd8-06cb-433f-d6e4-966cf12957c1"
      },
      "source": [
        "# 1o passo: será que o sistema possui solução?\n",
        "# Vamos tirar o determinante para descobrir isso\n",
        "det_A = det(A)\n",
        "print(det_A)"
      ],
      "execution_count": 63,
      "outputs": [
        {
          "output_type": "stream",
          "name": "stdout",
          "text": [
            "-5.000000000000001\n"
          ]
        }
      ]
    },
    {
      "cell_type": "markdown",
      "metadata": {
        "id": "KCUFpzozqBot"
      },
      "source": [
        "Como o det_A deu diferente de 0, sabemos que o sistema possui solução."
      ]
    },
    {
      "cell_type": "code",
      "metadata": {
        "colab": {
          "base_uri": "https://localhost:8080/"
        },
        "id": "8BUBzFCmp9jx",
        "outputId": "63cb4e40-cebb-4e90-95a3-221b2e4d0b15"
      },
      "source": [
        "# Vetor solução\n",
        "X = inv(A).dot(B)\n",
        "print(X)"
      ],
      "execution_count": 64,
      "outputs": [
        {
          "output_type": "stream",
          "name": "stdout",
          "text": [
            "[[2.2]\n",
            " [0.6]]\n"
          ]
        }
      ]
    },
    {
      "cell_type": "markdown",
      "metadata": {
        "id": "xvnj2Mecq5Z9"
      },
      "source": [
        "Portanto, a solução desse sistema é: 2,2 e 0,6"
      ]
    },
    {
      "cell_type": "code",
      "metadata": {
        "colab": {
          "base_uri": "https://localhost:8080/"
        },
        "id": "mEdcYDisqWsW",
        "outputId": "ed3d3818-d76b-4f5b-8240-25c0e76fd6d5"
      },
      "source": [
        "# Vamos resolver outro sistema\n",
        "# Declaração das matrizes\n",
        "G = np.array([[1, 2, 3], [6, 0, 1], [4, 5, -1]])\n",
        "H = np.array([[3], [-6], [1]])\n",
        "\n",
        "print(G, '\\n')\n",
        "print(H)"
      ],
      "execution_count": 65,
      "outputs": [
        {
          "output_type": "stream",
          "name": "stdout",
          "text": [
            "[[ 1  2  3]\n",
            " [ 6  0  1]\n",
            " [ 4  5 -1]] \n",
            "\n",
            "[[ 3]\n",
            " [-6]\n",
            " [ 1]]\n"
          ]
        }
      ]
    },
    {
      "cell_type": "code",
      "metadata": {
        "colab": {
          "base_uri": "https://localhost:8080/"
        },
        "id": "2Vceyz95rYAq",
        "outputId": "eb1b1eb6-78c9-4d92-94de-71642482f85c"
      },
      "source": [
        "# 1o passo: será que o sistema possui solução?\n",
        "# Vamos tirar o determinante para descobrir isso\n",
        "det_G = det(G)\n",
        "print(det_G)"
      ],
      "execution_count": 66,
      "outputs": [
        {
          "output_type": "stream",
          "name": "stdout",
          "text": [
            "104.99999999999997\n"
          ]
        }
      ]
    },
    {
      "cell_type": "code",
      "metadata": {
        "colab": {
          "base_uri": "https://localhost:8080/"
        },
        "id": "4rDu7QM3rg0t",
        "outputId": "41e517e2-cf0a-4968-bc47-452b7e727268"
      },
      "source": [
        "# Vetor solução\n",
        "X = inv(G).dot(H)\n",
        "print(X)"
      ],
      "execution_count": 67,
      "outputs": [
        {
          "output_type": "stream",
          "name": "stdout",
          "text": [
            "[[-1.0952381 ]\n",
            " [ 1.19047619]\n",
            " [ 0.57142857]]\n"
          ]
        }
      ]
    },
    {
      "cell_type": "code",
      "metadata": {
        "id": "vnk4myIvrlkg"
      },
      "source": [
        ""
      ],
      "execution_count": 67,
      "outputs": []
    },
    {
      "cell_type": "markdown",
      "metadata": {
        "id": "N3Ye8QjBtqxF"
      },
      "source": [
        "## Solucionar sistemas lineares com a regra de cramer"
      ]
    },
    {
      "cell_type": "code",
      "metadata": {
        "colab": {
          "base_uri": "https://localhost:8080/"
        },
        "id": "P43TAfJ7tuE1",
        "outputId": "a33e387e-ad6f-491e-fff3-05dc12b1255d"
      },
      "source": [
        "# Vamos resolver o sistema do início do tópico\n",
        "# Declaração das matrizes\n",
        "print(A, '\\n')\n",
        "print(B)"
      ],
      "execution_count": 68,
      "outputs": [
        {
          "output_type": "stream",
          "name": "stdout",
          "text": [
            "[[-1  2]\n",
            " [ 2  1]] \n",
            "\n",
            "[[-1]\n",
            " [ 5]]\n"
          ]
        }
      ]
    },
    {
      "cell_type": "code",
      "metadata": {
        "colab": {
          "base_uri": "https://localhost:8080/"
        },
        "id": "3YlBppUYt6jB",
        "outputId": "76f044f6-0226-4ce3-fbfb-168b3fd26e7e"
      },
      "source": [
        "# 1o passo: será que o sistema possui solução?\n",
        "# Vamos tirar o determinante para descobrir isso\n",
        "det_A = det(A)\n",
        "print(det_A)"
      ],
      "execution_count": 69,
      "outputs": [
        {
          "output_type": "stream",
          "name": "stdout",
          "text": [
            "-5.000000000000001\n"
          ]
        }
      ]
    },
    {
      "cell_type": "code",
      "metadata": {
        "colab": {
          "base_uri": "https://localhost:8080/"
        },
        "id": "PWVQdbknuDws",
        "outputId": "e32f9b9f-1c9e-4b0b-ad5a-16fff9a23f9c"
      },
      "source": [
        "# Substituir a primeira coluna da matriz A pelos termos de b\n",
        "AX = A.copy()\n",
        "AX[:, 0] = B[:, 0]\n",
        "print(AX)"
      ],
      "execution_count": 70,
      "outputs": [
        {
          "output_type": "stream",
          "name": "stdout",
          "text": [
            "[[-1  2]\n",
            " [ 5  1]]\n"
          ]
        }
      ]
    },
    {
      "cell_type": "code",
      "metadata": {
        "colab": {
          "base_uri": "https://localhost:8080/"
        },
        "id": "r5tTo4V8ub-q",
        "outputId": "b4c8e28a-25d7-4b54-bcc7-5c655d1ea916"
      },
      "source": [
        "# Substituir a segunda coluna da matriz A pelos termos de b\n",
        "Ay = A.copy()\n",
        "Ay[:, 1] = B[:, 0]\n",
        "print(Ay)"
      ],
      "execution_count": 71,
      "outputs": [
        {
          "output_type": "stream",
          "name": "stdout",
          "text": [
            "[[-1 -1]\n",
            " [ 2  5]]\n"
          ]
        }
      ]
    },
    {
      "cell_type": "code",
      "metadata": {
        "colab": {
          "base_uri": "https://localhost:8080/"
        },
        "id": "gJzMOVIsunB3",
        "outputId": "88557f85-b942-4437-8b41-e665d777d0df"
      },
      "source": [
        "# Tirar os determinantes de AX e Ay\n",
        "det_AX = det(AX)\n",
        "det_Ay = det(Ay)\n",
        "print(det_AX, det_Ay)"
      ],
      "execution_count": 72,
      "outputs": [
        {
          "output_type": "stream",
          "name": "stdout",
          "text": [
            "-11.000000000000002 -2.9999999999999996\n"
          ]
        }
      ]
    },
    {
      "cell_type": "code",
      "metadata": {
        "colab": {
          "base_uri": "https://localhost:8080/"
        },
        "id": "XImBmKuhvAes",
        "outputId": "bf9a52b9-a225-44d7-b5c3-d30d965ece5d"
      },
      "source": [
        "# Solução do sistema\n",
        "X = det_AX/det_A\n",
        "y = det_Ay/det_A\n",
        "\n",
        "print(X, y)"
      ],
      "execution_count": 73,
      "outputs": [
        {
          "output_type": "stream",
          "name": "stdout",
          "text": [
            "2.2 0.5999999999999998\n"
          ]
        }
      ]
    },
    {
      "cell_type": "code",
      "metadata": {
        "id": "Mbz6CJ4CvM2U"
      },
      "source": [
        ""
      ],
      "execution_count": 73,
      "outputs": []
    },
    {
      "cell_type": "markdown",
      "metadata": {
        "id": "60VE40Fix1Re"
      },
      "source": [
        "## Representação gráfica do sistema acima\n",
        "sistema:     \n",
        "\n",
        "y-2x = 5\n",
        "\n",
        "y + 3x = 2"
      ]
    },
    {
      "cell_type": "code",
      "metadata": {
        "colab": {
          "base_uri": "https://localhost:8080/",
          "height": 296
        },
        "id": "2DeAjilNx4Nm",
        "outputId": "fe851f27-5bcf-49ed-b1c3-a7bddc13a9e9"
      },
      "source": [
        "# Criar 100 valores espaçados de 10 em 10\n",
        "x = np.linspace(-10, 10, 100) \n",
        "\n",
        "# Declaração das equações\n",
        "y1 = 2*x + 5\n",
        "y2 = -3*x + 2\n",
        "\n",
        "# Plotar as retas\n",
        "plt.plot(x, y1, 'red')\n",
        "plt.plot(x, y2, 'blue')\n",
        "\n",
        "plt.xlabel('X')\n",
        "plt.ylabel('y')"
      ],
      "execution_count": 74,
      "outputs": [
        {
          "output_type": "execute_result",
          "data": {
            "text/plain": [
              "Text(0, 0.5, 'y')"
            ]
          },
          "metadata": {},
          "execution_count": 74
        },
        {
          "output_type": "display_data",
          "data": {
            "image/png": "[encoded data removed]",
            "text/plain": [
              "<Figure size 432x288 with 1 Axes>"
            ]
          },
          "metadata": {
            "needs_background": "light"
          }
        }
      ]
    },
    {
      "cell_type": "code",
      "metadata": {
        "colab": {
          "base_uri": "https://localhost:8080/"
        },
        "id": "38Us50y6y7nD",
        "outputId": "f4c53380-332c-4477-e466-4bfb236b394e"
      },
      "source": [
        "# Vamos resolver esse sistema\n",
        "# Declaração das matrizes\n",
        "A = np.array([[1, -2], [1, 3]])\n",
        "B = np.array([[5], [2]])\n",
        "\n",
        "print(A, '\\n')\n",
        "print(B)"
      ],
      "execution_count": 75,
      "outputs": [
        {
          "output_type": "stream",
          "name": "stdout",
          "text": [
            "[[ 1 -2]\n",
            " [ 1  3]] \n",
            "\n",
            "[[5]\n",
            " [2]]\n"
          ]
        }
      ]
    },
    {
      "cell_type": "code",
      "metadata": {
        "colab": {
          "base_uri": "https://localhost:8080/"
        },
        "id": "NQ4V01WyzeKG",
        "outputId": "261c0d0c-5956-4135-a3ed-0fe5345fe5e7"
      },
      "source": [
        "# 1o passo: será que o sistema possui solução?\n",
        "# Vamos tirar o determinante para descobrir isso\n",
        "det_A = det(A)\n",
        "print(det_A)"
      ],
      "execution_count": 76,
      "outputs": [
        {
          "output_type": "stream",
          "name": "stdout",
          "text": [
            "4.999999999999999\n"
          ]
        }
      ]
    },
    {
      "cell_type": "code",
      "metadata": {
        "colab": {
          "base_uri": "https://localhost:8080/"
        },
        "id": "XCRbseLQzix3",
        "outputId": "34d04409-fe69-4359-cbb5-63458452dd53"
      },
      "source": [
        "# Vetor solução\n",
        "X = inv(A).dot(B)\n",
        "print(X)"
      ],
      "execution_count": 77,
      "outputs": [
        {
          "output_type": "stream",
          "name": "stdout",
          "text": [
            "[[ 3.8]\n",
            " [-0.6]]\n"
          ]
        }
      ]
    },
    {
      "cell_type": "code",
      "metadata": {
        "colab": {
          "base_uri": "https://localhost:8080/",
          "height": 296
        },
        "id": "yI7cQ4DczokC",
        "outputId": "9bbb5037-b55f-49d4-d339-ad3a6bb396ac"
      },
      "source": [
        "# Vamos plotar esse ponto do vetor solução no gráfico\n",
        "\n",
        "# Plotar as retas\n",
        "plt.plot(x, y1, 'red')\n",
        "plt.plot(x, y2, 'blue')\n",
        "\n",
        "plt.plot(X[1], X[0], 'og')\n",
        "\n",
        "plt.xlabel('X')\n",
        "plt.ylabel('y')"
      ],
      "execution_count": 78,
      "outputs": [
        {
          "output_type": "execute_result",
          "data": {
            "text/plain": [
              "Text(0, 0.5, 'y')"
            ]
          },
          "metadata": {},
          "execution_count": 78
        },
        {
          "output_type": "display_data",
          "data": {
            "image/png": "[encoded data removed]",
            "text/plain": [
              "<Figure size 432x288 with 1 Axes>"
            ]
          },
          "metadata": {
            "needs_background": "light"
          }
        }
      ]
    },
    {
      "cell_type": "code",
      "metadata": {
        "id": "sIWqKbbW0F3y"
      },
      "source": [
        ""
      ],
      "execution_count": 78,
      "outputs": []
    },
    {
      "cell_type": "markdown",
      "source": [
        "# Autovalores e Autovetores"
      ],
      "metadata": {
        "id": "Jz8J8W9drEbA"
      }
    },
    {
      "cell_type": "code",
      "source": [
        "# Importar as bibliotecas e declarar as matrizes\n",
        "import numpy.linalg as al\n",
        "\n",
        "A = np.array([[4, 2, 0], [-1, 1, 0], [0, 1, 2]])\n",
        "B = np.diag([3, 2, 1])\n",
        "\n",
        "print(A, '\\n')\n",
        "print(B)"
      ],
      "metadata": {
        "colab": {
          "base_uri": "https://localhost:8080/"
        },
        "id": "p95AiKELrJ7v",
        "outputId": "5f6cf79b-b0a1-4a0e-f5bb-c026781a766f"
      },
      "execution_count": 79,
      "outputs": [
        {
          "output_type": "stream",
          "name": "stdout",
          "text": [
            "[[ 4  2  0]\n",
            " [-1  1  0]\n",
            " [ 0  1  2]] \n",
            "\n",
            "[[3 0 0]\n",
            " [0 2 0]\n",
            " [0 0 1]]\n"
          ]
        }
      ]
    },
    {
      "cell_type": "code",
      "source": [
        "# Função que calcula os autovalores e os autovetores para a matriz B\n",
        "\n",
        "autovalores, autovetores = al.eig(B)\n",
        "print(autovalores, '\\n') # A função retorna primeiro os autovalores\n",
        "print(autovetores)"
      ],
      "metadata": {
        "colab": {
          "base_uri": "https://localhost:8080/"
        },
        "id": "Nm3jEkoYrmbe",
        "outputId": "69bf6e4f-c7cc-4f9a-b16f-4e72a9d10589"
      },
      "execution_count": 80,
      "outputs": [
        {
          "output_type": "stream",
          "name": "stdout",
          "text": [
            "[3. 2. 1.] \n",
            "\n",
            "[[1. 0. 0.]\n",
            " [0. 1. 0.]\n",
            " [0. 0. 1.]]\n"
          ]
        }
      ]
    },
    {
      "cell_type": "markdown",
      "source": [
        "* A primeira coluna dos autovetores está associada ao autovalor 3\n",
        "* A segunda coluna dos autovetores está associada ao autovalor 2\n",
        "* A terceira coluna dos autovetores está associada ao autovalor 1"
      ],
      "metadata": {
        "id": "LnLYrZ4MsRBY"
      }
    },
    {
      "cell_type": "code",
      "source": [
        "# Função que calcula os autovalores e os autovetores para a matriz A\n",
        "\n",
        "autovalores, autovetores = al.eig(A)\n",
        "print(autovalores, '\\n') # A função retorna primeiro os autovalores\n",
        "print(autovetores)"
      ],
      "metadata": {
        "colab": {
          "base_uri": "https://localhost:8080/"
        },
        "id": "StomvmqxsEws",
        "outputId": "ac45e3cc-cbe7-48c2-f691-4206aa50913e"
      },
      "execution_count": 81,
      "outputs": [
        {
          "output_type": "stream",
          "name": "stdout",
          "text": [
            "[2. 2. 3.] \n",
            "\n",
            "[[ 0.00000000e+00  4.44089210e-16 -8.16496581e-01]\n",
            " [ 0.00000000e+00 -4.44089210e-16  4.08248290e-01]\n",
            " [ 1.00000000e+00  1.00000000e+00  4.08248290e-01]]\n"
          ]
        }
      ]
    },
    {
      "cell_type": "markdown",
      "source": [
        "* A primeira coluna dos autovetores está associada ao autovalor 2\n",
        "* A segunda coluna dos autovetores está associada ao autovalor 2\n",
        "* A terceira coluna dos autovetores está associada ao autovalor 3"
      ],
      "metadata": {
        "id": "LjWqzfpGsyEH"
      }
    },
    {
      "cell_type": "markdown",
      "source": [
        "# Sequência de Fibonacci"
      ],
      "metadata": {
        "id": "zPBDkv5fyapv"
      }
    },
    {
      "cell_type": "code",
      "source": [
        "# Sequência de fibonacci\n",
        "def fibonacci(n):\n",
        "  u = 1/np.sqrt(5) * (((1+np.sqrt(5))/2)**(n+1)-((1-np.sqrt(5))/2)**(n+1))\n",
        "  return u"
      ],
      "metadata": {
        "id": "m_HDup3fswhG"
      },
      "execution_count": 87,
      "outputs": []
    },
    {
      "cell_type": "code",
      "source": [
        "fibonacci(4)"
      ],
      "metadata": {
        "colab": {
          "base_uri": "https://localhost:8080/"
        },
        "id": "H4BYxVrWzAYr",
        "outputId": "0e337d94-b74d-448b-a6f0-856a942f9874"
      },
      "execution_count": 92,
      "outputs": [
        {
          "output_type": "execute_result",
          "data": {
            "text/plain": [
              "5.000000000000001"
            ]
          },
          "metadata": {},
          "execution_count": 92
        }
      ]
    },
    {
      "cell_type": "code",
      "source": [
        ""
      ],
      "metadata": {
        "id": "LkV0nyQzz3sg"
      },
      "execution_count": null,
      "outputs": []
    }
  ]
}